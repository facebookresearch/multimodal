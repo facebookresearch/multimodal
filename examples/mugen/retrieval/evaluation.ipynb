{
 "cells": [
  {
   "cell_type": "code",
   "execution_count": null,
   "metadata": {},
   "outputs": [],
   "source": [
    "from examples.mugen.retrieval.model import VideoCLIPLightningModule\n",
    "from examples.mugen.data.mugen_dataset import MUGENDatasetArgs\n",
    "from examples.mugen.data.mugen_datamodules import MUGENDataModule\n",
    "from torchmultimodal.transforms.bert_text_transform import BertTextTransform\n",
    "from torchmultimodal.transforms.video_transform import VideoTransform\n",
    "from pytorch_lightning import Trainer"
   ]
  },
  {
   "cell_type": "code",
   "execution_count": null,
   "metadata": {},
   "outputs": [],
   "source": [
    "# Instantiate the VideoCLIP lightning module and load the checkpoint from URL\n",
    "pl_videoclip = VideoCLIPLightningModule(text_pretrained=False, video_pretrained=False)\n",
    "pl_videoclip = pl_videoclip.load_from_checkpoint(\"lightning_videoclip_mugen_ckpt.pt\")"
   ]
  },
  {
   "cell_type": "code",
   "execution_count": null,
   "metadata": {},
   "outputs": [],
   "source": [
    "# Follow the instructions in `examples/mugen/data/README.md` to download the MUGEN dataset\n",
    " \n",
    "mugen_args = MUGENDatasetArgs(\n",
    "    get_text_desc=True,\n",
    "    get_game_frame=True,\n",
    "    get_audio=False, \n",
    "    get_seg_map=False, \n",
    "    use_manual_annotation=True,\n",
    "    use_auto_annotation=False,\n",
    ")\n",
    "\n",
    "datamodule = MUGENDataModule(\n",
    "    mugen_args, \n",
    "    text_transform=BertTextTransform(), \n",
    "    video_transform=VideoTransform(), \n",
    "    shuffle=False\n",
    ")"
   ]
  },
  {
   "cell_type": "code",
   "execution_count": null,
   "metadata": {},
   "outputs": [],
   "source": [
    "# Evaluate VideoCLIP on the test dataset\n",
    "\n",
    "trainer = Trainer()\n",
    "trainer.test(pl_videoclip, dataloaders=datamodule.test_dataloader())"
   ]
  }
 ],
 "metadata": {
  "kernelspec": {
   "display_name": "Python 3.8.13 ('torch-multimodal')",
   "language": "python",
   "name": "python3"
  },
  "language_info": {
   "name": "python",
   "version": "3.8.13"
  },
  "orig_nbformat": 4,
  "vscode": {
   "interpreter": {
    "hash": "e11f934c75a27ba440cdce0a4b0621fa919b185f3b9d5de19c4cea374fd649d6"
   }
  }
 },
 "nbformat": 4,
 "nbformat_minor": 2
}
